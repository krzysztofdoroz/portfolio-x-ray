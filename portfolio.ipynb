{
 "cells": [
  {
   "cell_type": "code",
   "execution_count": 295,
   "metadata": {},
   "outputs": [],
   "source": [
    "import yfinance as yf\n",
    "import pandas as pd\n",
    "from typing import List, DefaultDict, Tuple\n",
    "from collections.abc import Sequence\n",
    "import csv\n",
    "import importlib\n",
    "importlib.reload(main)\n",
    "from main import gbp_to_usd, eur_to_usd, process_stocks, process_etfs, load_etfs_from_file, load_stocks_from_file, get_stock_info, get_stock_price, process_stock_info, process_eur_etf"
   ]
  },
  {
   "cell_type": "code",
   "execution_count": 296,
   "metadata": {},
   "outputs": [],
   "source": [
    "Stock = Tuple[str, int]\n",
    "Etf = Tuple[str, int, str]"
   ]
  },
  {
   "cell_type": "code",
   "execution_count": 297,
   "metadata": {},
   "outputs": [
    {
     "name": "stdout",
     "output_type": "stream",
     "text": [
      "1.3808912\n"
     ]
    }
   ],
   "source": [
    "GBP_to_USD = gbp_to_usd()\n",
    "print(GBP_to_USD)"
   ]
  },
  {
   "cell_type": "code",
   "execution_count": 298,
   "metadata": {},
   "outputs": [
    {
     "name": "stdout",
     "output_type": "stream",
     "text": [
      "1.186521\n"
     ]
    }
   ],
   "source": [
    "EUR_to_USD = eur_to_usd()\n",
    "print(EUR_to_USD)"
   ]
  },
  {
   "cell_type": "code",
   "execution_count": 299,
   "metadata": {},
   "outputs": [],
   "source": [
    "stocks = load_stocks_from_file('data/stocks2.csv')\n"
   ]
  },
  {
   "cell_type": "code",
   "execution_count": 300,
   "metadata": {},
   "outputs": [],
   "source": [
    "eur_etfs = load_etfs_from_file('data/etfs2.csv')\n"
   ]
  },
  {
   "cell_type": "code",
   "execution_count": 301,
   "metadata": {},
   "outputs": [
    {
     "name": "stdout",
     "output_type": "stream",
     "text": [
      "ACRE\n"
     ]
    }
   ],
   "source": [
    "df = process_stocks(stocks) \n"
   ]
  },
  {
   "cell_type": "code",
   "execution_count": 302,
   "metadata": {},
   "outputs": [
    {
     "name": "stdout",
     "output_type": "stream",
     "text": [
      "SPY\n"
     ]
    }
   ],
   "source": [
    "df_etfs = process_etfs(eur_etfs)\n"
   ]
  },
  {
   "cell_type": "code",
   "execution_count": 303,
   "metadata": {},
   "outputs": [],
   "source": [
    "merged_portfolio = df.append(df_etfs, sort=False)\n",
    "total_portfolio_val = merged_portfolio[\"total_val\"].sum()\n",
    "merged_portfolio['%portfolio'] = (merged_portfolio['total_val'] / total_portfolio_val) * 100"
   ]
  },
  {
   "cell_type": "code",
   "execution_count": 304,
   "metadata": {},
   "outputs": [
    {
     "data": {
      "text/html": [
       "<div>\n",
       "<style scoped>\n",
       "    .dataframe tbody tr th:only-of-type {\n",
       "        vertical-align: middle;\n",
       "    }\n",
       "\n",
       "    .dataframe tbody tr th {\n",
       "        vertical-align: top;\n",
       "    }\n",
       "\n",
       "    .dataframe thead th {\n",
       "        text-align: right;\n",
       "    }\n",
       "</style>\n",
       "<table border=\"1\" class=\"dataframe\">\n",
       "  <thead>\n",
       "    <tr style=\"text-align: right;\">\n",
       "      <th></th>\n",
       "      <th>ticker</th>\n",
       "      <th>price</th>\n",
       "      <th>amount</th>\n",
       "      <th>BV</th>\n",
       "      <th>P/B</th>\n",
       "      <th>total_val</th>\n",
       "      <th>dividend_rate</th>\n",
       "      <th>yield</th>\n",
       "      <th>industry</th>\n",
       "      <th>currency</th>\n",
       "      <th>%portfolio</th>\n",
       "    </tr>\n",
       "  </thead>\n",
       "  <tbody>\n",
       "    <tr>\n",
       "      <th>0</th>\n",
       "      <td>SPY</td>\n",
       "      <td>414.920013</td>\n",
       "      <td>100</td>\n",
       "      <td>NaN</td>\n",
       "      <td>NaN</td>\n",
       "      <td>41492.001343</td>\n",
       "      <td>NaN</td>\n",
       "      <td>NaN</td>\n",
       "      <td>NaN</td>\n",
       "      <td>USD</td>\n",
       "      <td>96.634604</td>\n",
       "    </tr>\n",
       "    <tr>\n",
       "      <th>0</th>\n",
       "      <td>ACRE</td>\n",
       "      <td>14.450000</td>\n",
       "      <td>100</td>\n",
       "      <td>14.254</td>\n",
       "      <td>1.013751</td>\n",
       "      <td>1445.000000</td>\n",
       "      <td>1.32</td>\n",
       "      <td>0.0785</td>\n",
       "      <td>REIT—Mortgage</td>\n",
       "      <td>USD</td>\n",
       "      <td>3.365396</td>\n",
       "    </tr>\n",
       "  </tbody>\n",
       "</table>\n",
       "</div>"
      ],
      "text/plain": [
       "  ticker       price  amount      BV       P/B     total_val  dividend_rate  \\\n",
       "0    SPY  414.920013     100     NaN       NaN  41492.001343            NaN   \n",
       "0   ACRE   14.450000     100  14.254  1.013751   1445.000000           1.32   \n",
       "\n",
       "    yield       industry currency  %portfolio  \n",
       "0     NaN            NaN      USD   96.634604  \n",
       "0  0.0785  REIT—Mortgage      USD    3.365396  "
      ]
     },
     "execution_count": 304,
     "metadata": {},
     "output_type": "execute_result"
    }
   ],
   "source": [
    "merged_portfolio.sort_values(by='total_val', ascending=False)"
   ]
  },
  {
   "cell_type": "code",
   "execution_count": 305,
   "metadata": {},
   "outputs": [
    {
     "name": "stdout",
     "output_type": "stream",
     "text": [
      "42937.00134277344\n"
     ]
    }
   ],
   "source": [
    "print(total_portfolio_val)"
   ]
  },
  {
   "cell_type": "code",
   "execution_count": null,
   "metadata": {},
   "outputs": [],
   "source": []
  }
 ],
 "metadata": {
  "kernelspec": {
   "display_name": "python3_deep_driver",
   "language": "python",
   "name": "python3_deep_driver"
  },
  "language_info": {
   "codemirror_mode": {
    "name": "ipython",
    "version": 3
   },
   "file_extension": ".py",
   "mimetype": "text/x-python",
   "name": "python",
   "nbconvert_exporter": "python",
   "pygments_lexer": "ipython3",
   "version": "3.7.8"
  }
 },
 "nbformat": 4,
 "nbformat_minor": 4
}
