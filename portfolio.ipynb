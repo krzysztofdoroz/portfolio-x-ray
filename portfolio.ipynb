{
 "cells": [
  {
   "cell_type": "code",
   "execution_count": 65,
   "metadata": {},
   "outputs": [],
   "source": [
    "import yfinance as yf\n",
    "import pandas as pd\n",
    "from typing import List\n",
    "import csv"
   ]
  },
  {
   "cell_type": "code",
   "execution_count": 66,
   "metadata": {},
   "outputs": [],
   "source": [
    "def load_etfs_from_file(path: str)-> List:\n",
    "    with open(path, newline='') as csvfile:\n",
    "        result = []\n",
    "        reader = csv.reader(csvfile, delimiter=',', quotechar='\"')\n",
    "        for ticker, amount, ccy in reader:\n",
    "            result.append((ticker, int(amount), ccy))\n",
    "        return result"
   ]
  },
  {
   "cell_type": "code",
   "execution_count": 67,
   "metadata": {},
   "outputs": [],
   "source": [
    "def load_stocks_from_file(path: str)-> List:\n",
    "    with open(path, newline='') as csvfile:\n",
    "        result = []\n",
    "        reader = csv.reader(csvfile, delimiter=',', quotechar='\"')\n",
    "        for ticker, amount in reader:\n",
    "            result.append((ticker, int(amount)))\n",
    "        return result"
   ]
  },
  {
   "cell_type": "code",
   "execution_count": 68,
   "metadata": {},
   "outputs": [
    {
     "name": "stdout",
     "output_type": "stream",
     "text": [
      "1.3808912\n"
     ]
    }
   ],
   "source": [
    "GBP_to_USD = yf.Ticker(\"GBPUSD=X\").info['regularMarketPrice']\n",
    "print(GBP_to_USD)"
   ]
  },
  {
   "cell_type": "code",
   "execution_count": 69,
   "metadata": {},
   "outputs": [
    {
     "name": "stdout",
     "output_type": "stream",
     "text": [
      "1.186521\n"
     ]
    }
   ],
   "source": [
    "EUR_to_USD = yf.Ticker(\"EURUSD=X\").info['regularMarketPrice']\n",
    "print(EUR_to_USD)"
   ]
  },
  {
   "cell_type": "code",
   "execution_count": 70,
   "metadata": {},
   "outputs": [],
   "source": [
    "def get_stock_info(ticker : str)-> dict:\n",
    "    return yf.Ticker(ticker).info"
   ]
  },
  {
   "cell_type": "code",
   "execution_count": 71,
   "metadata": {},
   "outputs": [],
   "source": [
    "def get_stock_price(ticker: str)-> dict:\n",
    "    return yf.Ticker(ticker).history(period=\"1d\").iloc[0,3]"
   ]
  },
  {
   "cell_type": "code",
   "execution_count": 72,
   "metadata": {},
   "outputs": [],
   "source": [
    "def process_stock_info(info: dict, amount: int) -> dict:\n",
    "    total_val = amount * info['regularMarketPrice']\n",
    "    ccy = info['currency']\n",
    "    if ccy == 'GBp':\n",
    "        total_val = (total_val * GBP_to_USD) / 100\n",
    "        \n",
    "    \n",
    "    return {\"ticker\": info['symbol'],\n",
    "            \"price\": info['regularMarketPrice'],\n",
    "            \"amount\": amount,\n",
    "            \"BV\": info['bookValue'],\n",
    "            \"P/B\": info['priceToBook'],\n",
    "            \"total_val\": total_val,\n",
    "            \"dividend_rate\": info['dividendRate'],\n",
    "            \"yield\": info['dividendYield'],\n",
    "            \"industry\": info.get('industry', \"\"),\n",
    "            \"currency\": ccy}"
   ]
  },
  {
   "cell_type": "code",
   "execution_count": 73,
   "metadata": {},
   "outputs": [],
   "source": [
    "def process_eur_etf(ticker: str, price: float, amount: int, ccy: str)-> dict:\n",
    "    total_val = amount * price\n",
    "\n",
    "    if ccy == 'GBp':\n",
    "        total_val = (total_val * GBP_to_USD) / 100\n",
    "    if ccy == 'EUR':\n",
    "        total_val = total_val * EUR_to_USD\n",
    "    if ccy == 'GBP':\n",
    "        total_val = (total_val * GBP_to_USD) \n",
    "        \n",
    "    return {\"ticker\": ticker,\n",
    "            \"price\": price,\n",
    "            \"amount\": amount,\n",
    "            \"total_val\": total_val,\n",
    "            \"currency\": ccy\n",
    "        \n",
    "    }"
   ]
  },
  {
   "cell_type": "code",
   "execution_count": 74,
   "metadata": {},
   "outputs": [],
   "source": [
    "portfolio = load_stocks_from_file('data/stocks2.csv')"
   ]
  },
  {
   "cell_type": "code",
   "execution_count": 75,
   "metadata": {},
   "outputs": [
    {
     "name": "stdout",
     "output_type": "stream",
     "text": [
      "[('SPY', 100, 'USD')]\n"
     ]
    }
   ],
   "source": [
    "eur_etfs = load_etfs_from_file('data/etfs2.csv')\n",
    "print(eur_etfs)"
   ]
  },
  {
   "cell_type": "code",
   "execution_count": 76,
   "metadata": {},
   "outputs": [
    {
     "name": "stdout",
     "output_type": "stream",
     "text": [
      "SPY\n"
     ]
    }
   ],
   "source": [
    "etfs = []\n",
    "for ticker, amount, ccy in eur_etfs:\n",
    "    print(ticker)\n",
    "    etfs.append(process_eur_etf(ticker, get_stock_price(ticker), amount, ccy))"
   ]
  },
  {
   "cell_type": "code",
   "execution_count": 77,
   "metadata": {},
   "outputs": [
    {
     "name": "stdout",
     "output_type": "stream",
     "text": [
      "ACRE\n"
     ]
    }
   ],
   "source": [
    "stocks = []\n",
    "for ticker, amount in portfolio:\n",
    "    print(ticker)\n",
    "    stocks.append(process_stock_info(get_stock_info(ticker), amount))\n",
    "    \n",
    "df = pd.DataFrame(stocks)    "
   ]
  },
  {
   "cell_type": "code",
   "execution_count": 78,
   "metadata": {},
   "outputs": [],
   "source": [
    "df_etfs = pd.DataFrame(etfs)"
   ]
  },
  {
   "cell_type": "code",
   "execution_count": 79,
   "metadata": {},
   "outputs": [],
   "source": [
    "merged_portfolio = df.append(df_etfs, sort=False)\n",
    "total_portfolio_val = merged_portfolio[\"total_val\"].sum()\n",
    "merged_portfolio['%portfolio'] = (merged_portfolio['total_val'] / total_portfolio_val) * 100"
   ]
  },
  {
   "cell_type": "code",
   "execution_count": 80,
   "metadata": {},
   "outputs": [
    {
     "data": {
      "text/html": [
       "<div>\n",
       "<style scoped>\n",
       "    .dataframe tbody tr th:only-of-type {\n",
       "        vertical-align: middle;\n",
       "    }\n",
       "\n",
       "    .dataframe tbody tr th {\n",
       "        vertical-align: top;\n",
       "    }\n",
       "\n",
       "    .dataframe thead th {\n",
       "        text-align: right;\n",
       "    }\n",
       "</style>\n",
       "<table border=\"1\" class=\"dataframe\">\n",
       "  <thead>\n",
       "    <tr style=\"text-align: right;\">\n",
       "      <th></th>\n",
       "      <th>ticker</th>\n",
       "      <th>price</th>\n",
       "      <th>amount</th>\n",
       "      <th>BV</th>\n",
       "      <th>P/B</th>\n",
       "      <th>total_val</th>\n",
       "      <th>dividend_rate</th>\n",
       "      <th>yield</th>\n",
       "      <th>industry</th>\n",
       "      <th>currency</th>\n",
       "      <th>%portfolio</th>\n",
       "    </tr>\n",
       "  </thead>\n",
       "  <tbody>\n",
       "    <tr>\n",
       "      <th>0</th>\n",
       "      <td>SPY</td>\n",
       "      <td>414.920013</td>\n",
       "      <td>100</td>\n",
       "      <td>NaN</td>\n",
       "      <td>NaN</td>\n",
       "      <td>41492.001343</td>\n",
       "      <td>NaN</td>\n",
       "      <td>NaN</td>\n",
       "      <td>NaN</td>\n",
       "      <td>USD</td>\n",
       "      <td>96.634604</td>\n",
       "    </tr>\n",
       "    <tr>\n",
       "      <th>0</th>\n",
       "      <td>ACRE</td>\n",
       "      <td>14.450000</td>\n",
       "      <td>100</td>\n",
       "      <td>14.254</td>\n",
       "      <td>1.013751</td>\n",
       "      <td>1445.000000</td>\n",
       "      <td>1.32</td>\n",
       "      <td>0.0785</td>\n",
       "      <td>REIT—Mortgage</td>\n",
       "      <td>USD</td>\n",
       "      <td>3.365396</td>\n",
       "    </tr>\n",
       "  </tbody>\n",
       "</table>\n",
       "</div>"
      ],
      "text/plain": [
       "  ticker       price  amount      BV       P/B     total_val  dividend_rate  \\\n",
       "0    SPY  414.920013     100     NaN       NaN  41492.001343            NaN   \n",
       "0   ACRE   14.450000     100  14.254  1.013751   1445.000000           1.32   \n",
       "\n",
       "    yield       industry currency  %portfolio  \n",
       "0     NaN            NaN      USD   96.634604  \n",
       "0  0.0785  REIT—Mortgage      USD    3.365396  "
      ]
     },
     "execution_count": 80,
     "metadata": {},
     "output_type": "execute_result"
    }
   ],
   "source": [
    "merged_portfolio.sort_values(by='total_val', ascending=False)"
   ]
  },
  {
   "cell_type": "code",
   "execution_count": 81,
   "metadata": {},
   "outputs": [
    {
     "name": "stdout",
     "output_type": "stream",
     "text": [
      "42937.00134277344\n"
     ]
    }
   ],
   "source": [
    "print(total_portfolio_val)"
   ]
  },
  {
   "cell_type": "code",
   "execution_count": null,
   "metadata": {},
   "outputs": [],
   "source": []
  }
 ],
 "metadata": {
  "kernelspec": {
   "display_name": "python3_deep_driver",
   "language": "python",
   "name": "python3_deep_driver"
  },
  "language_info": {
   "codemirror_mode": {
    "name": "ipython",
    "version": 3
   },
   "file_extension": ".py",
   "mimetype": "text/x-python",
   "name": "python",
   "nbconvert_exporter": "python",
   "pygments_lexer": "ipython3",
   "version": "3.7.8"
  }
 },
 "nbformat": 4,
 "nbformat_minor": 4
}
